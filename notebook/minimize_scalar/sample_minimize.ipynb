{
 "cells": [
  {
   "cell_type": "markdown",
   "metadata": {},
   "source": [
    "https://www.kaggle.com/yxohrxn/votingclassifier-fit"
   ]
  },
  {
   "cell_type": "code",
   "execution_count": 1,
   "metadata": {
    "ExecuteTime": {
     "end_time": "2020-12-06T14:42:28.194311Z",
     "start_time": "2020-12-06T14:42:27.539311Z"
    }
   },
   "outputs": [],
   "source": [
    "import os\n",
    "import gc\n",
    "import re\n",
    "import math\n",
    "import pickle\n",
    "import joblib\n",
    "import warnings\n",
    "\n",
    "import numpy as np\n",
    "import pandas as pd\n",
    "from scipy.optimize import minimize\n",
    "from scipy.optimize import minimize_scalar\n",
    "\n",
    "from sklearn.model_selection import KFold, GroupKFold\n",
    "\n",
    "warnings.simplefilter(\"ignore\")\n",
    "pd.set_option(\"display.max_columns\", None)"
   ]
  },
  {
   "cell_type": "code",
   "execution_count": 2,
   "metadata": {
    "ExecuteTime": {
     "end_time": "2020-12-06T14:42:28.200311Z",
     "start_time": "2020-12-06T14:42:28.197311Z"
    }
   },
   "outputs": [],
   "source": [
    "from sklearn.metrics import mean_squared_log_error\n",
    "\n",
    "\n",
    "def score(y, y_pred):\n",
    "    RMSLE = np.sqrt(np.mean(((np.log(y + 1) - np.log(y_pred + 1)) ** 2)))\n",
    "    # RMSLE = mean_squared_log_error(y, y_pred) ** 0.5\n",
    "    return RMSLE"
   ]
  },
  {
   "cell_type": "code",
   "execution_count": 3,
   "metadata": {
    "ExecuteTime": {
     "end_time": "2020-12-06T14:42:28.206311Z",
     "start_time": "2020-12-06T14:42:28.201311Z"
    }
   },
   "outputs": [],
   "source": [
    "import numpy as np\n",
    "\n",
    "\n",
    "def objective_for_weights(weights, Y_true, Y_preds):\n",
    "    Y_pred = np.tensordot(weights, Y_preds, axes=(0, 0))\n",
    "\n",
    "    return score(Y_true, Y_pred)"
   ]
  },
  {
   "cell_type": "code",
   "execution_count": 4,
   "metadata": {
    "ExecuteTime": {
     "end_time": "2020-12-06T14:42:28.213312Z",
     "start_time": "2020-12-06T14:42:28.207311Z"
    },
    "code_folding": [
     3
    ]
   },
   "outputs": [],
   "source": [
    "import numpy as np\n",
    "\n",
    "\n",
    "class ObjectiveWithEarlyStopping(object):\n",
    "    def __init__(\n",
    "        self, y_true, y_preds, y_true_valid, y_preds_valid, patience=30\n",
    "    ):\n",
    "        self.y_true = np.asarray(y_true)\n",
    "        self.y_preds = np.asarray(y_preds)\n",
    "        self.y_true_valid = np.asarray(y_true_valid)\n",
    "        self.y_preds_valid = np.asarray(y_preds_valid)\n",
    "        self.patience = patience\n",
    "\n",
    "        self._nit = 0\n",
    "        self._wait = 0\n",
    "        self._best_score = np.inf\n",
    "        self._best_weights = None\n",
    "\n",
    "    def __call__(self, params):\n",
    "        train_score = self._objective(\n",
    "            params,\n",
    "            self.y_true,\n",
    "            self.y_preds,\n",
    "        )\n",
    "        valid_score = self._objective(\n",
    "            params,\n",
    "            self.y_true_valid,\n",
    "            self.y_preds_valid,\n",
    "        )\n",
    "\n",
    "        self._nit += 1\n",
    "\n",
    "        if valid_score < self._best_score:\n",
    "            self._wait = 0\n",
    "            self._best_score = valid_score\n",
    "            self._best_params = params\n",
    "        else:\n",
    "            self._wait += 1\n",
    "\n",
    "        if self._wait >= self.patience:\n",
    "            raise RuntimeError(f\"Epoch {self._nit}: early stopping\")\n",
    "\n",
    "        return train_score\n",
    "    \n",
    "\n",
    "class ObjectiveForWeightsWithEarlyStopping(ObjectiveWithEarlyStopping):\n",
    "    @property\n",
    "    def _objective(self):\n",
    "         return objective_for_weights"
   ]
  },
  {
   "cell_type": "markdown",
   "metadata": {},
   "source": [
    "# Data"
   ]
  },
  {
   "cell_type": "code",
   "execution_count": 5,
   "metadata": {
    "ExecuteTime": {
     "end_time": "2020-12-06T14:42:28.526319Z",
     "start_time": "2020-12-06T14:42:28.214311Z"
    }
   },
   "outputs": [],
   "source": [
    "DATADIR = r\"C:\\Users\\81908\\jupyter_notebook\\poetry_work\\tfgpu\\atmaCup_#8\\notebook\\lgbm\\20201206_Publisher_GroupkFold_seed\"\n",
    "train = pd.read_csv(f\"{DATADIR}/train_fe.csv\")\n",
    "test = pd.read_csv(f\"{DATADIR}/test_fe.csv\")"
   ]
  },
  {
   "cell_type": "code",
   "execution_count": 6,
   "metadata": {
    "ExecuteTime": {
     "end_time": "2020-12-06T14:42:28.543311Z",
     "start_time": "2020-12-06T14:42:28.528311Z"
    }
   },
   "outputs": [
    {
     "data": {
      "text/plain": [
       "array([[2.69839713e+01, 1.11606583e+01, 6.72686596e-02, 2.55724231e+00],\n",
       "       [3.45496368e+01, 1.53688081e+01, 2.41966732e-02, 3.78013117e+00],\n",
       "       [2.04864610e+01, 3.90141834e+00, 0.00000000e+00, 2.61394756e+00],\n",
       "       ...,\n",
       "       [0.00000000e+00, 0.00000000e+00, 4.82053824e+00, 0.00000000e+00],\n",
       "       [1.08914142e+01, 6.51730273e+00, 3.56547591e+00, 2.29662195e+00],\n",
       "       [3.70496277e+00, 2.44540806e+00, 6.12001546e+00, 7.13806125e-01]])"
      ]
     },
     "metadata": {},
     "output_type": "display_data"
    },
    {
     "data": {
      "text/plain": [
       "array([[15.3014555 ,  3.69886184,  0.25572032,  2.29578471],\n",
       "       [14.60657597,  3.68967652,  0.17771631,  2.12772226],\n",
       "       [13.71120071,  2.73732591,  0.27682534,  1.87870455],\n",
       "       ...,\n",
       "       [ 0.12605757,  0.16402519,  3.19271445,  0.13531223],\n",
       "       [ 5.33964872,  3.36915302,  4.67105389,  1.74877119],\n",
       "       [ 4.23889399,  2.52558947,  5.66805553,  1.25168657]])"
      ]
     },
     "metadata": {},
     "output_type": "display_data"
    },
    {
     "name": "stdout",
     "output_type": "stream",
     "text": [
      "Y_preds.shape: (2, 8359, 4)\n",
      "columns: Index(['NA_Sales', 'EU_Sales', 'JP_Sales', 'Other_Sales'], dtype='object')\n"
     ]
    }
   ],
   "source": [
    "Y_preds = []\n",
    "paths = []\n",
    "\n",
    "_DATADIR = r\"C:\\Users\\81908\\jupyter_notebook\\poetry_work\\tfgpu\\atmaCup_#8\\notebook\\lgbm\\20201206_Publisher_GroupkFold\"\n",
    "path = f\"{_DATADIR}/Y_pred_psude_label.pkl\"\n",
    "with open(path, \"rb\") as f:\n",
    "    y_pred = pickle.load(f)\n",
    "y_pred = y_pred.iloc[: train.shape[0], :]  # 複数クラス試す\n",
    "#y_pred = y_pred.iloc[: train.shape[0], [0]]  # 1クラスだけ試す\n",
    "columns = y_pred.columns\n",
    "y_pred = np.asarray(y_pred)\n",
    "Y_preds.append(y_pred)\n",
    "paths.append(path)\n",
    "display(y_pred)\n",
    "    \n",
    "_DATADIR = r\"C:\\Users\\81908\\jupyter_notebook\\poetry_work\\tfgpu\\atmaCup_#8\\notebook\\xgb\\20201206_Publisher_GroupkFold\"\n",
    "path = f\"{_DATADIR}/Y_pred_psude_label.pkl\"\n",
    "with open(path, \"rb\") as f:\n",
    "    y_pred = pickle.load(f)\n",
    "y_pred = y_pred.iloc[: train.shape[0], :]  # 複数クラス試す\n",
    "#y_pred = y_pred.iloc[: train.shape[0], [0]]  # 1クラスだけ試す\n",
    "columns = y_pred.columns\n",
    "y_pred = np.asarray(y_pred)\n",
    "Y_preds.append(y_pred)\n",
    "paths.append(path)\n",
    "display(y_pred)\n",
    "\n",
    "Y_preds = np.asarray(Y_preds)\n",
    "print(\"Y_preds.shape:\", Y_preds.shape)\n",
    "\n",
    "n_models = len(Y_preds)\n",
    "\n",
    "result = pd.DataFrame(index=paths)\n",
    "\n",
    "print(\"columns:\", columns)\n",
    "\n",
    "target_cols = [\"NA_Sales\", \"EU_Sales\", \"JP_Sales\", \"Other_Sales\"]  # 複数クラス試す\n",
    "#target_cols = [\"NA_Sales\"]  # 1クラスだけ試す"
   ]
  },
  {
   "cell_type": "code",
   "execution_count": 7,
   "metadata": {
    "ExecuteTime": {
     "end_time": "2020-12-06T14:42:28.550312Z",
     "start_time": "2020-12-06T14:42:28.544311Z"
    }
   },
   "outputs": [],
   "source": [
    "sales_cols = [\n",
    "    \"NA_Sales\",\n",
    "    \"EU_Sales\",\n",
    "    \"JP_Sales\",\n",
    "    \"Other_Sales\",\n",
    "    \"Global_Sales\",\n",
    "]\n",
    "\n",
    "train_drop_sales = train.drop(sales_cols, axis=1)"
   ]
  },
  {
   "cell_type": "code",
   "execution_count": 8,
   "metadata": {
    "ExecuteTime": {
     "end_time": "2020-12-06T14:42:28.556311Z",
     "start_time": "2020-12-06T14:42:28.551311Z"
    }
   },
   "outputs": [],
   "source": [
    "# group_col = \"Name\"\n",
    "group_col = \"Publisher\"  # https://www.guruguru.science/competitions/13/discussions/42fc473d-4450-4cfc-b924-0a5d61fd0ca7/\n",
    "\n",
    "# GroupKFold\n",
    "group = train_drop_sales[group_col].copy()  \n",
    "\n",
    "# seed値が指定できるGroupKFold  https://www.guruguru.science/competitions/13/discussions/cc7167cb-3627-448a-b9eb-7afcd29fd122/\n",
    "group = train_drop_sales[group_col].copy()\n",
    "group_uni = train_drop_sales[group_col].copy().unique()"
   ]
  },
  {
   "cell_type": "code",
   "execution_count": 9,
   "metadata": {
    "ExecuteTime": {
     "end_time": "2020-12-06T14:42:28.570310Z",
     "start_time": "2020-12-06T14:42:28.557310Z"
    }
   },
   "outputs": [
    {
     "name": "stdout",
     "output_type": "stream",
     "text": [
      "cate_cols: ['Platform', 'Rating', 'Year_of_Release', 'series', 'Genre']\n"
     ]
    }
   ],
   "source": [
    "# test setとあまり被りのない特徴量は除外  https://www.guruguru.science/competitions/13/discussions/df06ef19-981d-4666-a0c0-22f62ee26640/\n",
    "\n",
    "inbalance = [\"Publisher\", \"Developer\", \"Name\"]\n",
    "train_drop_sales = train_drop_sales.drop(inbalance, axis=1)\n",
    "test = test.drop(inbalance, axis=1)\n",
    "\n",
    "cate_cols = ['Platform', 'Rating', 'Year_of_Release', 'series', 'Genre']\n",
    "print(\"cate_cols:\", cate_cols)"
   ]
  },
  {
   "cell_type": "code",
   "execution_count": 10,
   "metadata": {
    "ExecuteTime": {
     "end_time": "2020-12-06T14:42:28.583310Z",
     "start_time": "2020-12-06T14:42:28.571311Z"
    }
   },
   "outputs": [],
   "source": [
    "features = test.columns.to_list()\n",
    "\n",
    "global_target_col = \"Global_Sales\"\n",
    "\n",
    "X = train_drop_sales[features].copy()\n",
    "Y = train[target_cols].copy()\n",
    "Y_global = train[global_target_col].copy()\n",
    "\n",
    "train_size, n_features = X.shape\n",
    "\n",
    "_, n_classes = Y.shape"
   ]
  },
  {
   "cell_type": "code",
   "execution_count": 11,
   "metadata": {
    "ExecuteTime": {
     "end_time": "2020-12-06T14:42:28.586312Z",
     "start_time": "2020-12-06T14:42:28.584311Z"
    }
   },
   "outputs": [],
   "source": [
    "n_seeds = 5\n",
    "n_splits = 5\n",
    "shuffle = True"
   ]
  },
  {
   "cell_type": "code",
   "execution_count": 12,
   "metadata": {
    "ExecuteTime": {
     "end_time": "2020-12-06T14:42:28.802311Z",
     "start_time": "2020-12-06T14:42:28.587311Z"
    }
   },
   "outputs": [
    {
     "data": {
      "text/html": [
       "<style  type=\"text/css\" >\n",
       "#T_43ac5913_37d1_11eb_848c_a8a15924d6ferow0_col0,#T_43ac5913_37d1_11eb_848c_a8a15924d6ferow0_col1,#T_43ac5913_37d1_11eb_848c_a8a15924d6ferow1_col1{\n",
       "            background-color:  #f7fbff;\n",
       "            color:  #000000;\n",
       "        }#T_43ac5913_37d1_11eb_848c_a8a15924d6ferow1_col0{\n",
       "            background-color:  #2979b9;\n",
       "            color:  #000000;\n",
       "        }</style><table id=\"T_43ac5913_37d1_11eb_848c_a8a15924d6fe\" ><thead>    <tr>        <th class=\"blank level0\" ></th>        <th class=\"col_heading level0 col0\" >C:\\Users\\81908\\jupyter_notebook\\poetry_work\\tfgpu\\atmaCup_#8\\notebook\\lgbm\\20201206_Publisher_GroupkFold/Y_pred_psude_label.pkl</th>        <th class=\"col_heading level0 col1\" >C:\\Users\\81908\\jupyter_notebook\\poetry_work\\tfgpu\\atmaCup_#8\\notebook\\xgb\\20201206_Publisher_GroupkFold/Y_pred_psude_label.pkl</th>    </tr></thead><tbody>\n",
       "                <tr>\n",
       "                        <th id=\"T_43ac5913_37d1_11eb_848c_a8a15924d6felevel0_row0\" class=\"row_heading level0 row0\" >C:\\Users\\81908\\jupyter_notebook\\poetry_work\\tfgpu\\atmaCup_#8\\notebook\\lgbm\\20201206_Publisher_GroupkFold/Y_pred_psude_label.pkl</th>\n",
       "                        <td id=\"T_43ac5913_37d1_11eb_848c_a8a15924d6ferow0_col0\" class=\"data row0 col0\" >0.000000</td>\n",
       "                        <td id=\"T_43ac5913_37d1_11eb_848c_a8a15924d6ferow0_col1\" class=\"data row0 col1\" >0.000000</td>\n",
       "            </tr>\n",
       "            <tr>\n",
       "                        <th id=\"T_43ac5913_37d1_11eb_848c_a8a15924d6felevel0_row1\" class=\"row_heading level0 row1\" >C:\\Users\\81908\\jupyter_notebook\\poetry_work\\tfgpu\\atmaCup_#8\\notebook\\xgb\\20201206_Publisher_GroupkFold/Y_pred_psude_label.pkl</th>\n",
       "                        <td id=\"T_43ac5913_37d1_11eb_848c_a8a15924d6ferow1_col0\" class=\"data row1 col0\" >0.722092</td>\n",
       "                        <td id=\"T_43ac5913_37d1_11eb_848c_a8a15924d6ferow1_col1\" class=\"data row1 col1\" >0.000000</td>\n",
       "            </tr>\n",
       "    </tbody></table>"
      ],
      "text/plain": [
       "<pandas.io.formats.style.Styler at 0x29155058640>"
      ]
     },
     "execution_count": 12,
     "metadata": {},
     "output_type": "execute_result"
    }
   ],
   "source": [
    "corr = np.empty((n_models, n_models))\n",
    "corr = pd.DataFrame(corr, columns=paths, index=paths)\n",
    "\n",
    "for i, row in enumerate(paths):\n",
    "    for j, column in enumerate(paths):\n",
    "        if i <= j:\n",
    "            corr.loc[row, column] = 0\n",
    "        else:\n",
    "            df = pd.DataFrame(Y_preds[i])\n",
    "            other = pd.DataFrame(Y_preds[j])\n",
    "            corr.loc[row, column] = df.corrwith(other).mean()\n",
    "\n",
    "corr.style.background_gradient(cmap=\"Blues\", subset=paths, vmax=1.0, vmin=0.0)"
   ]
  },
  {
   "cell_type": "markdown",
   "metadata": {},
   "source": [
    "# ObjectiveForWeightsWithEarlyStopping"
   ]
  },
  {
   "cell_type": "code",
   "execution_count": 13,
   "metadata": {
    "ExecuteTime": {
     "end_time": "2020-12-06T14:42:29.475318Z",
     "start_time": "2020-12-06T14:42:28.803311Z"
    }
   },
   "outputs": [],
   "source": [
    "Y_pred = np.zeros((train_size, n_classes))\n",
    "Y_pred = pd.DataFrame(Y_pred, columns=Y.columns, dtype=\"float\", index=Y.index)\n",
    "\n",
    "weights = np.zeros((n_classes, n_models))\n",
    "n_iters = np.zeros(n_classes)\n",
    "\n",
    "x0 = np.ones(n_models) / n_models\n",
    "bounds = [(0.0, 1.0) for _ in range(n_models)]\n",
    "constraints = {\n",
    "    \"type\": \"eq\",\n",
    "    \"fun\": lambda x: np.sum(x) - 1.0,\n",
    "    \"jac\": lambda x: np.ones_like(x),\n",
    "}\n",
    "options = {\"ftol\": 0.0, \"maxiter\": 1_000_000}\n",
    "\n",
    "for i in range(n_seeds):\n",
    "    cv = KFold(n_splits=n_splits, random_state=i, shuffle=shuffle)\n",
    "    cv_split = cv.split(group_uni)\n",
    "\n",
    "    for j, (trn_idx, val_idx) in enumerate(cv_split):\n",
    "        for k, column in enumerate(columns):\n",
    "            objective = ObjectiveForWeightsWithEarlyStopping(\n",
    "                Y.iloc[trn_idx, [k]],\n",
    "                Y_preds[:, trn_idx, [k]],\n",
    "                Y.iloc[val_idx, [k]],\n",
    "                Y_preds[:, val_idx, [k]],\n",
    "                patience=30,\n",
    "            )\n",
    "\n",
    "            try:\n",
    "                res = minimize(\n",
    "                    objective,\n",
    "                    x0,\n",
    "                    bounds=bounds,\n",
    "                    constraints=constraints,\n",
    "                    method=\"SLSQP\",\n",
    "                    options=options,\n",
    "                )\n",
    "            except RuntimeError:\n",
    "                pass\n",
    "\n",
    "            weights[k] += objective._best_params / n_seeds / n_splits\n",
    "            n_iters[k] += objective._nit / n_seeds / n_splits\n",
    "            \n",
    "            Y_pred.iloc[val_idx, k] += np.tensordot(\n",
    "                objective._best_params, Y_preds[:, val_idx, [k]], axes=(0, 0)\n",
    "            ) / n_seeds\n",
    "\n",
    "with open(\"weights.pkl\", \"wb\") as f:\n",
    "    pickle.dump(weights, f)"
   ]
  },
  {
   "cell_type": "code",
   "execution_count": 14,
   "metadata": {
    "ExecuteTime": {
     "end_time": "2020-12-06T14:42:29.480311Z",
     "start_time": "2020-12-06T14:42:29.476311Z"
    }
   },
   "outputs": [
    {
     "data": {
      "text/plain": [
       "array([[0.42130747, 0.57869254],\n",
       "       [0.30717289, 0.69282712],\n",
       "       [0.01378029, 0.98621972],\n",
       "       [0.35956013, 0.64043988]])"
      ]
     },
     "execution_count": 14,
     "metadata": {},
     "output_type": "execute_result"
    }
   ],
   "source": [
    "weights"
   ]
  },
  {
   "cell_type": "code",
   "execution_count": 15,
   "metadata": {
    "ExecuteTime": {
     "end_time": "2020-12-06T14:42:29.490311Z",
     "start_time": "2020-12-06T14:42:29.481311Z"
    }
   },
   "outputs": [
    {
     "data": {
      "text/html": [
       "<style  type=\"text/css\" >\n",
       "#T_44152d08_37d1_11eb_9248_a8a15924d6ferow0_col0{\n",
       "            background-color:  #f7fbff;\n",
       "            color:  #000000;\n",
       "        }#T_44152d08_37d1_11eb_9248_a8a15924d6ferow1_col0{\n",
       "            background-color:  #08306b;\n",
       "            color:  #f1f1f1;\n",
       "        }</style><table id=\"T_44152d08_37d1_11eb_9248_a8a15924d6fe\" ><thead>    <tr>        <th class=\"blank level0\" ></th>        <th class=\"col_heading level0 col0\" >weights_mean</th>    </tr></thead><tbody>\n",
       "                <tr>\n",
       "                        <th id=\"T_44152d08_37d1_11eb_9248_a8a15924d6felevel0_row0\" class=\"row_heading level0 row0\" >C:\\Users\\81908\\jupyter_notebook\\poetry_work\\tfgpu\\atmaCup_#8\\notebook\\lgbm\\20201206_Publisher_GroupkFold/Y_pred_psude_label.pkl</th>\n",
       "                        <td id=\"T_44152d08_37d1_11eb_9248_a8a15924d6ferow0_col0\" class=\"data row0 col0\" >0.275455</td>\n",
       "            </tr>\n",
       "            <tr>\n",
       "                        <th id=\"T_44152d08_37d1_11eb_9248_a8a15924d6felevel0_row1\" class=\"row_heading level0 row1\" >C:\\Users\\81908\\jupyter_notebook\\poetry_work\\tfgpu\\atmaCup_#8\\notebook\\xgb\\20201206_Publisher_GroupkFold/Y_pred_psude_label.pkl</th>\n",
       "                        <td id=\"T_44152d08_37d1_11eb_9248_a8a15924d6ferow1_col0\" class=\"data row1 col0\" >0.724545</td>\n",
       "            </tr>\n",
       "    </tbody></table>"
      ],
      "text/plain": [
       "<pandas.io.formats.style.Styler at 0x291550587f0>"
      ]
     },
     "execution_count": 15,
     "metadata": {},
     "output_type": "execute_result"
    }
   ],
   "source": [
    "result[\"weights_mean\"] = np.mean(weights, axis=0)\n",
    "\n",
    "result.style.background_gradient(cmap=\"Blues\")"
   ]
  },
  {
   "cell_type": "code",
   "execution_count": 16,
   "metadata": {
    "ExecuteTime": {
     "end_time": "2020-12-06T14:42:29.502311Z",
     "start_time": "2020-12-06T14:42:29.491320Z"
    },
    "lines_to_next_cell": 0
   },
   "outputs": [
    {
     "data": {
      "text/html": [
       "<style  type=\"text/css\" >\n",
       "#T_4416dab9_37d1_11eb_b905_a8a15924d6ferow0_col0{\n",
       "            background-color:  #8cc0dd;\n",
       "            color:  #000000;\n",
       "        }#T_4416dab9_37d1_11eb_b905_a8a15924d6ferow0_col1{\n",
       "            background-color:  #519ccc;\n",
       "            color:  #000000;\n",
       "        }#T_4416dab9_37d1_11eb_b905_a8a15924d6ferow1_col0{\n",
       "            background-color:  #b4d3e9;\n",
       "            color:  #000000;\n",
       "        }#T_4416dab9_37d1_11eb_b905_a8a15924d6ferow1_col1{\n",
       "            background-color:  #3080bd;\n",
       "            color:  #000000;\n",
       "        }#T_4416dab9_37d1_11eb_b905_a8a15924d6ferow2_col0{\n",
       "            background-color:  #f5f9fe;\n",
       "            color:  #000000;\n",
       "        }#T_4416dab9_37d1_11eb_b905_a8a15924d6ferow2_col1{\n",
       "            background-color:  #083370;\n",
       "            color:  #f1f1f1;\n",
       "        }#T_4416dab9_37d1_11eb_b905_a8a15924d6ferow3_col0{\n",
       "            background-color:  #a3cce3;\n",
       "            color:  #000000;\n",
       "        }#T_4416dab9_37d1_11eb_b905_a8a15924d6ferow3_col1{\n",
       "            background-color:  #3e8ec4;\n",
       "            color:  #000000;\n",
       "        }</style><table id=\"T_4416dab9_37d1_11eb_b905_a8a15924d6fe\" ><thead>    <tr>        <th class=\"blank level0\" ></th>        <th class=\"col_heading level0 col0\" >C:\\Users\\81908\\jupyter_notebook\\poetry_work\\tfgpu\\atmaCup_#8\\notebook\\lgbm\\20201206_Publisher_GroupkFold/Y_pred_psude_label.pkl</th>        <th class=\"col_heading level0 col1\" >C:\\Users\\81908\\jupyter_notebook\\poetry_work\\tfgpu\\atmaCup_#8\\notebook\\xgb\\20201206_Publisher_GroupkFold/Y_pred_psude_label.pkl</th>        <th class=\"col_heading level0 col2\" >n_iter</th>    </tr></thead><tbody>\n",
       "                <tr>\n",
       "                        <th id=\"T_4416dab9_37d1_11eb_b905_a8a15924d6felevel0_row0\" class=\"row_heading level0 row0\" >NA_Sales</th>\n",
       "                        <td id=\"T_4416dab9_37d1_11eb_b905_a8a15924d6ferow0_col0\" class=\"data row0 col0\" >0.421307</td>\n",
       "                        <td id=\"T_4416dab9_37d1_11eb_b905_a8a15924d6ferow0_col1\" class=\"data row0 col1\" >0.578693</td>\n",
       "                        <td id=\"T_4416dab9_37d1_11eb_b905_a8a15924d6ferow0_col2\" class=\"data row0 col2\" >26.920000</td>\n",
       "            </tr>\n",
       "            <tr>\n",
       "                        <th id=\"T_4416dab9_37d1_11eb_b905_a8a15924d6felevel0_row1\" class=\"row_heading level0 row1\" >EU_Sales</th>\n",
       "                        <td id=\"T_4416dab9_37d1_11eb_b905_a8a15924d6ferow1_col0\" class=\"data row1 col0\" >0.307173</td>\n",
       "                        <td id=\"T_4416dab9_37d1_11eb_b905_a8a15924d6ferow1_col1\" class=\"data row1 col1\" >0.692827</td>\n",
       "                        <td id=\"T_4416dab9_37d1_11eb_b905_a8a15924d6ferow1_col2\" class=\"data row1 col2\" >32.400000</td>\n",
       "            </tr>\n",
       "            <tr>\n",
       "                        <th id=\"T_4416dab9_37d1_11eb_b905_a8a15924d6felevel0_row2\" class=\"row_heading level0 row2\" >JP_Sales</th>\n",
       "                        <td id=\"T_4416dab9_37d1_11eb_b905_a8a15924d6ferow2_col0\" class=\"data row2 col0\" >0.013780</td>\n",
       "                        <td id=\"T_4416dab9_37d1_11eb_b905_a8a15924d6ferow2_col1\" class=\"data row2 col1\" >0.986220</td>\n",
       "                        <td id=\"T_4416dab9_37d1_11eb_b905_a8a15924d6ferow2_col2\" class=\"data row2 col2\" >14.800000</td>\n",
       "            </tr>\n",
       "            <tr>\n",
       "                        <th id=\"T_4416dab9_37d1_11eb_b905_a8a15924d6felevel0_row3\" class=\"row_heading level0 row3\" >Other_Sales</th>\n",
       "                        <td id=\"T_4416dab9_37d1_11eb_b905_a8a15924d6ferow3_col0\" class=\"data row3 col0\" >0.359560</td>\n",
       "                        <td id=\"T_4416dab9_37d1_11eb_b905_a8a15924d6ferow3_col1\" class=\"data row3 col1\" >0.640440</td>\n",
       "                        <td id=\"T_4416dab9_37d1_11eb_b905_a8a15924d6ferow3_col2\" class=\"data row3 col2\" >26.200000</td>\n",
       "            </tr>\n",
       "    </tbody></table>"
      ],
      "text/plain": [
       "<pandas.io.formats.style.Styler at 0x2915653bfa0>"
      ]
     },
     "execution_count": 16,
     "metadata": {},
     "output_type": "execute_result"
    }
   ],
   "source": [
    "result = pd.DataFrame(weights, columns=paths, index=Y.columns)\n",
    "result[\"n_iter\"] = n_iters\n",
    "\n",
    "result.style.background_gradient(cmap=\"Blues\", subset=paths, vmax=1.0, vmin=0.0)"
   ]
  },
  {
   "cell_type": "code",
   "execution_count": 17,
   "metadata": {
    "ExecuteTime": {
     "end_time": "2020-12-06T14:42:29.514311Z",
     "start_time": "2020-12-06T14:42:29.503312Z"
    },
    "lines_to_next_cell": 2
   },
   "outputs": [
    {
     "data": {
      "text/plain": [
       "NA_Sales       1.258294\n",
       "EU_Sales       1.206106\n",
       "JP_Sales       1.162336\n",
       "Other_Sales    0.810562\n",
       "dtype: float64"
      ]
     },
     "execution_count": 17,
     "metadata": {},
     "output_type": "execute_result"
    }
   ],
   "source": [
    "for i, column in enumerate(columns):\n",
    "    Y_pred[column] = np.tensordot(weights[i], Y_preds[:, :, [i]], axes=(0, 0))\n",
    "    \n",
    "score(Y, Y_pred)"
   ]
  },
  {
   "cell_type": "code",
   "execution_count": 18,
   "metadata": {
    "ExecuteTime": {
     "end_time": "2020-12-06T14:42:29.522310Z",
     "start_time": "2020-12-06T14:42:29.515311Z"
    }
   },
   "outputs": [
    {
     "data": {
      "text/plain": [
       "1.1436774133278371"
      ]
     },
     "execution_count": 18,
     "metadata": {},
     "output_type": "execute_result"
    }
   ],
   "source": [
    "score(Y.sum(axis=1), Y_pred.sum(axis=1))"
   ]
  },
  {
   "cell_type": "code",
   "execution_count": 19,
   "metadata": {
    "ExecuteTime": {
     "end_time": "2020-12-06T14:42:29.532311Z",
     "start_time": "2020-12-06T14:42:29.523311Z"
    },
    "scrolled": true
   },
   "outputs": [
    {
     "data": {
      "text/html": [
       "<div>\n",
       "<style scoped>\n",
       "    .dataframe tbody tr th:only-of-type {\n",
       "        vertical-align: middle;\n",
       "    }\n",
       "\n",
       "    .dataframe tbody tr th {\n",
       "        vertical-align: top;\n",
       "    }\n",
       "\n",
       "    .dataframe thead th {\n",
       "        text-align: right;\n",
       "    }\n",
       "</style>\n",
       "<table border=\"1\" class=\"dataframe\">\n",
       "  <thead>\n",
       "    <tr style=\"text-align: right;\">\n",
       "      <th></th>\n",
       "      <th>NA_Sales</th>\n",
       "      <th>EU_Sales</th>\n",
       "      <th>JP_Sales</th>\n",
       "      <th>Other_Sales</th>\n",
       "    </tr>\n",
       "  </thead>\n",
       "  <tbody>\n",
       "    <tr>\n",
       "      <th>0</th>\n",
       "      <td>180.0</td>\n",
       "      <td>97.0</td>\n",
       "      <td>0.0</td>\n",
       "      <td>28.0</td>\n",
       "    </tr>\n",
       "    <tr>\n",
       "      <th>1</th>\n",
       "      <td>151.0</td>\n",
       "      <td>61.0</td>\n",
       "      <td>0.0</td>\n",
       "      <td>21.0</td>\n",
       "    </tr>\n",
       "    <tr>\n",
       "      <th>2</th>\n",
       "      <td>56.0</td>\n",
       "      <td>44.0</td>\n",
       "      <td>0.0</td>\n",
       "      <td>27.0</td>\n",
       "    </tr>\n",
       "    <tr>\n",
       "      <th>3</th>\n",
       "      <td>117.0</td>\n",
       "      <td>7.0</td>\n",
       "      <td>0.0</td>\n",
       "      <td>1.0</td>\n",
       "    </tr>\n",
       "    <tr>\n",
       "      <th>4</th>\n",
       "      <td>69.0</td>\n",
       "      <td>42.0</td>\n",
       "      <td>0.0</td>\n",
       "      <td>12.0</td>\n",
       "    </tr>\n",
       "    <tr>\n",
       "      <th>...</th>\n",
       "      <td>...</td>\n",
       "      <td>...</td>\n",
       "      <td>...</td>\n",
       "      <td>...</td>\n",
       "    </tr>\n",
       "    <tr>\n",
       "      <th>8354</th>\n",
       "      <td>0.0</td>\n",
       "      <td>4.0</td>\n",
       "      <td>0.0</td>\n",
       "      <td>0.0</td>\n",
       "    </tr>\n",
       "    <tr>\n",
       "      <th>8355</th>\n",
       "      <td>0.0</td>\n",
       "      <td>1.0</td>\n",
       "      <td>0.0</td>\n",
       "      <td>0.0</td>\n",
       "    </tr>\n",
       "    <tr>\n",
       "      <th>8356</th>\n",
       "      <td>0.0</td>\n",
       "      <td>0.0</td>\n",
       "      <td>1.0</td>\n",
       "      <td>0.0</td>\n",
       "    </tr>\n",
       "    <tr>\n",
       "      <th>8357</th>\n",
       "      <td>0.0</td>\n",
       "      <td>0.0</td>\n",
       "      <td>4.0</td>\n",
       "      <td>0.0</td>\n",
       "    </tr>\n",
       "    <tr>\n",
       "      <th>8358</th>\n",
       "      <td>0.0</td>\n",
       "      <td>0.0</td>\n",
       "      <td>1.0</td>\n",
       "      <td>0.0</td>\n",
       "    </tr>\n",
       "  </tbody>\n",
       "</table>\n",
       "<p>8359 rows × 4 columns</p>\n",
       "</div>"
      ],
      "text/plain": [
       "      NA_Sales  EU_Sales  JP_Sales  Other_Sales\n",
       "0        180.0      97.0       0.0         28.0\n",
       "1        151.0      61.0       0.0         21.0\n",
       "2         56.0      44.0       0.0         27.0\n",
       "3        117.0       7.0       0.0          1.0\n",
       "4         69.0      42.0       0.0         12.0\n",
       "...        ...       ...       ...          ...\n",
       "8354       0.0       4.0       0.0          0.0\n",
       "8355       0.0       1.0       0.0          0.0\n",
       "8356       0.0       0.0       1.0          0.0\n",
       "8357       0.0       0.0       4.0          0.0\n",
       "8358       0.0       0.0       1.0          0.0\n",
       "\n",
       "[8359 rows x 4 columns]"
      ]
     },
     "execution_count": 19,
     "metadata": {},
     "output_type": "execute_result"
    }
   ],
   "source": [
    "Y"
   ]
  },
  {
   "cell_type": "code",
   "execution_count": 20,
   "metadata": {
    "ExecuteTime": {
     "end_time": "2020-12-06T14:42:29.542311Z",
     "start_time": "2020-12-06T14:42:29.533316Z"
    }
   },
   "outputs": [
    {
     "data": {
      "text/html": [
       "<div>\n",
       "<style scoped>\n",
       "    .dataframe tbody tr th:only-of-type {\n",
       "        vertical-align: middle;\n",
       "    }\n",
       "\n",
       "    .dataframe tbody tr th {\n",
       "        vertical-align: top;\n",
       "    }\n",
       "\n",
       "    .dataframe thead th {\n",
       "        text-align: right;\n",
       "    }\n",
       "</style>\n",
       "<table border=\"1\" class=\"dataframe\">\n",
       "  <thead>\n",
       "    <tr style=\"text-align: right;\">\n",
       "      <th></th>\n",
       "      <th>NA_Sales</th>\n",
       "      <th>EU_Sales</th>\n",
       "      <th>JP_Sales</th>\n",
       "      <th>Other_Sales</th>\n",
       "    </tr>\n",
       "  </thead>\n",
       "  <tbody>\n",
       "    <tr>\n",
       "      <th>0</th>\n",
       "      <td>20.223387</td>\n",
       "      <td>5.990924</td>\n",
       "      <td>0.253123</td>\n",
       "      <td>2.389794</td>\n",
       "    </tr>\n",
       "    <tr>\n",
       "      <th>1</th>\n",
       "      <td>23.008737</td>\n",
       "      <td>7.277189</td>\n",
       "      <td>0.175601</td>\n",
       "      <td>2.721863</td>\n",
       "    </tr>\n",
       "    <tr>\n",
       "      <th>2</th>\n",
       "      <td>16.565669</td>\n",
       "      <td>3.094904</td>\n",
       "      <td>0.273011</td>\n",
       "      <td>2.143069</td>\n",
       "    </tr>\n",
       "    <tr>\n",
       "      <th>3</th>\n",
       "      <td>14.373038</td>\n",
       "      <td>3.828136</td>\n",
       "      <td>2.398447</td>\n",
       "      <td>0.897128</td>\n",
       "    </tr>\n",
       "    <tr>\n",
       "      <th>4</th>\n",
       "      <td>19.243087</td>\n",
       "      <td>4.641503</td>\n",
       "      <td>0.236737</td>\n",
       "      <td>2.438098</td>\n",
       "    </tr>\n",
       "    <tr>\n",
       "      <th>...</th>\n",
       "      <td>...</td>\n",
       "      <td>...</td>\n",
       "      <td>...</td>\n",
       "      <td>...</td>\n",
       "    </tr>\n",
       "    <tr>\n",
       "      <th>8354</th>\n",
       "      <td>4.149017</td>\n",
       "      <td>11.580964</td>\n",
       "      <td>0.423535</td>\n",
       "      <td>2.240884</td>\n",
       "    </tr>\n",
       "    <tr>\n",
       "      <th>8355</th>\n",
       "      <td>1.857755</td>\n",
       "      <td>2.216743</td>\n",
       "      <td>0.238011</td>\n",
       "      <td>0.342154</td>\n",
       "    </tr>\n",
       "    <tr>\n",
       "      <th>8356</th>\n",
       "      <td>0.072949</td>\n",
       "      <td>0.113641</td>\n",
       "      <td>3.215146</td>\n",
       "      <td>0.086659</td>\n",
       "    </tr>\n",
       "    <tr>\n",
       "      <th>8357</th>\n",
       "      <td>7.678649</td>\n",
       "      <td>4.336179</td>\n",
       "      <td>4.655819</td>\n",
       "      <td>1.945757</td>\n",
       "    </tr>\n",
       "    <tr>\n",
       "      <th>8358</th>\n",
       "      <td>4.013945</td>\n",
       "      <td>2.500960</td>\n",
       "      <td>5.674284</td>\n",
       "      <td>1.058286</td>\n",
       "    </tr>\n",
       "  </tbody>\n",
       "</table>\n",
       "<p>8359 rows × 4 columns</p>\n",
       "</div>"
      ],
      "text/plain": [
       "       NA_Sales   EU_Sales  JP_Sales  Other_Sales\n",
       "0     20.223387   5.990924  0.253123     2.389794\n",
       "1     23.008737   7.277189  0.175601     2.721863\n",
       "2     16.565669   3.094904  0.273011     2.143069\n",
       "3     14.373038   3.828136  2.398447     0.897128\n",
       "4     19.243087   4.641503  0.236737     2.438098\n",
       "...         ...        ...       ...          ...\n",
       "8354   4.149017  11.580964  0.423535     2.240884\n",
       "8355   1.857755   2.216743  0.238011     0.342154\n",
       "8356   0.072949   0.113641  3.215146     0.086659\n",
       "8357   7.678649   4.336179  4.655819     1.945757\n",
       "8358   4.013945   2.500960  5.674284     1.058286\n",
       "\n",
       "[8359 rows x 4 columns]"
      ]
     },
     "execution_count": 20,
     "metadata": {},
     "output_type": "execute_result"
    }
   ],
   "source": [
    "Y_pred"
   ]
  },
  {
   "cell_type": "code",
   "execution_count": null,
   "metadata": {},
   "outputs": [],
   "source": []
  }
 ],
 "metadata": {
  "hide_input": false,
  "jupytext": {
   "encoding": "# -*- coding: utf-8 -*-",
   "text_representation": {
    "extension": ".py",
    "format_name": "light",
    "format_version": "1.5",
    "jupytext_version": "1.6.0"
   }
  },
  "kernelspec": {
   "display_name": "Python 3",
   "language": "python",
   "name": "python3"
  },
  "language_info": {
   "codemirror_mode": {
    "name": "ipython",
    "version": 3
   },
   "file_extension": ".py",
   "mimetype": "text/x-python",
   "name": "python",
   "nbconvert_exporter": "python",
   "pygments_lexer": "ipython3",
   "version": "3.8.2"
  }
 },
 "nbformat": 4,
 "nbformat_minor": 4
}
